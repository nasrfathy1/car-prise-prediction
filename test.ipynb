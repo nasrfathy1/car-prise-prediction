{
 "cells": [
  {
   "cell_type": "code",
   "execution_count": 1,
   "id": "920043a7",
   "metadata": {},
   "outputs": [
    {
     "name": "stdout",
     "output_type": "stream",
     "text": [
      "Collecting trax==1.3.9\n",
      "  Using cached trax-1.3.9-py2.py3-none-any.whl (629 kB)\n",
      "Requirement already satisfied: absl-py in c:\\users\\rt\\anaconda3\\envs\\nasrdl\\lib\\site-packages (from trax==1.3.9) (1.3.0)\n",
      "Requirement already satisfied: funcsigs in c:\\users\\rt\\anaconda3\\envs\\nasrdl\\lib\\site-packages (from trax==1.3.9) (1.0.2)\n",
      "Requirement already satisfied: gin-config in c:\\users\\rt\\anaconda3\\envs\\nasrdl\\lib\\site-packages (from trax==1.3.9) (0.5.0)\n",
      "Requirement already satisfied: gym in c:\\users\\rt\\anaconda3\\envs\\nasrdl\\lib\\site-packages (from trax==1.3.9) (0.26.2)\n",
      "Requirement already satisfied: jax in c:\\users\\rt\\anaconda3\\envs\\nasrdl\\lib\\site-packages (from trax==1.3.9) (0.3.25)\n",
      "Requirement already satisfied: jaxlib in c:\\users\\rt\\anaconda3\\envs\\nasrdl\\lib\\site-packages (from trax==1.3.9) (0.1.70)\n",
      "Requirement already satisfied: matplotlib in c:\\users\\rt\\anaconda3\\envs\\nasrdl\\lib\\site-packages (from trax==1.3.9) (3.5.3)\n",
      "Requirement already satisfied: numpy in c:\\users\\rt\\anaconda3\\envs\\nasrdl\\lib\\site-packages (from trax==1.3.9) (1.21.5)\n",
      "Requirement already satisfied: psutil in c:\\users\\rt\\anaconda3\\envs\\nasrdl\\lib\\site-packages (from trax==1.3.9) (5.9.0)\n",
      "Requirement already satisfied: scipy in c:\\users\\rt\\anaconda3\\envs\\nasrdl\\lib\\site-packages (from trax==1.3.9) (1.7.3)\n",
      "Requirement already satisfied: six in c:\\users\\rt\\anaconda3\\envs\\nasrdl\\lib\\site-packages (from trax==1.3.9) (1.16.0)\n",
      "Collecting t5 (from trax==1.3.9)\n",
      "  Using cached t5-0.9.4-py2.py3-none-any.whl (164 kB)\n",
      "Requirement already satisfied: tensorflow-datasets in c:\\users\\rt\\anaconda3\\envs\\nasrdl\\lib\\site-packages (from trax==1.3.9) (4.8.2)\n",
      "Requirement already satisfied: tensorflow-text in c:\\users\\rt\\anaconda3\\envs\\nasrdl\\lib\\site-packages (from trax==1.3.9) (2.10.0)\n",
      "Requirement already satisfied: cloudpickle>=1.2.0 in c:\\users\\rt\\anaconda3\\envs\\nasrdl\\lib\\site-packages (from gym->trax==1.3.9) (2.0.0)\n",
      "Requirement already satisfied: gym-notices>=0.0.4 in c:\\users\\rt\\anaconda3\\envs\\nasrdl\\lib\\site-packages (from gym->trax==1.3.9) (0.0.8)\n",
      "Requirement already satisfied: importlib-metadata>=4.8.0 in c:\\users\\rt\\anaconda3\\envs\\nasrdl\\lib\\site-packages (from gym->trax==1.3.9) (6.6.0)\n",
      "Requirement already satisfied: opt-einsum in c:\\users\\rt\\anaconda3\\envs\\nasrdl\\lib\\site-packages (from jax->trax==1.3.9) (3.3.0)\n",
      "Requirement already satisfied: typing-extensions in c:\\users\\rt\\anaconda3\\envs\\nasrdl\\lib\\site-packages (from jax->trax==1.3.9) (4.4.0)\n",
      "Requirement already satisfied: flatbuffers<3.0,>=1.12 in c:\\users\\rt\\anaconda3\\envs\\nasrdl\\lib\\site-packages (from jaxlib->trax==1.3.9) (2.0.7)\n",
      "Requirement already satisfied: cycler>=0.10 in c:\\users\\rt\\anaconda3\\envs\\nasrdl\\lib\\site-packages (from matplotlib->trax==1.3.9) (0.11.0)\n",
      "Requirement already satisfied: fonttools>=4.22.0 in c:\\users\\rt\\anaconda3\\envs\\nasrdl\\lib\\site-packages (from matplotlib->trax==1.3.9) (4.38.0)\n",
      "Requirement already satisfied: kiwisolver>=1.0.1 in c:\\users\\rt\\anaconda3\\envs\\nasrdl\\lib\\site-packages (from matplotlib->trax==1.3.9) (1.4.4)\n",
      "Requirement already satisfied: packaging>=20.0 in c:\\users\\rt\\anaconda3\\envs\\nasrdl\\lib\\site-packages (from matplotlib->trax==1.3.9) (22.0)\n",
      "Requirement already satisfied: pillow>=6.2.0 in c:\\users\\rt\\anaconda3\\envs\\nasrdl\\lib\\site-packages (from matplotlib->trax==1.3.9) (9.4.0)\n",
      "Requirement already satisfied: pyparsing>=2.2.1 in c:\\users\\rt\\anaconda3\\envs\\nasrdl\\lib\\site-packages (from matplotlib->trax==1.3.9) (3.0.9)\n",
      "Requirement already satisfied: python-dateutil>=2.7 in c:\\users\\rt\\anaconda3\\envs\\nasrdl\\lib\\site-packages (from matplotlib->trax==1.3.9) (2.8.2)\n",
      "Requirement already satisfied: babel in c:\\users\\rt\\anaconda3\\envs\\nasrdl\\lib\\site-packages (from t5->trax==1.3.9) (2.11.0)\n",
      "Collecting editdistance (from t5->trax==1.3.9)\n",
      "  Downloading editdistance-0.6.2-cp37-cp37m-win_amd64.whl (22 kB)\n",
      "Collecting immutabledict (from t5->trax==1.3.9)\n",
      "  Downloading immutabledict-2.2.4-py3-none-any.whl (4.1 kB)\n",
      "Collecting mesh-tensorflow[transformer]>=0.1.13 (from t5->trax==1.3.9)\n",
      "  Downloading mesh_tensorflow-0.1.21-py3-none-any.whl (385 kB)\n",
      "     ------------------------------------ 385.2/385.2 kB 461.8 kB/s eta 0:00:00\n",
      "Requirement already satisfied: nltk in c:\\users\\rt\\anaconda3\\envs\\nasrdl\\lib\\site-packages (from t5->trax==1.3.9) (3.8.1)\n",
      "Requirement already satisfied: pandas in c:\\users\\rt\\anaconda3\\envs\\nasrdl\\lib\\site-packages (from t5->trax==1.3.9) (1.3.5)\n",
      "Collecting rouge-score>=0.1.2 (from t5->trax==1.3.9)\n",
      "  Downloading rouge_score-0.1.2.tar.gz (17 kB)\n",
      "  Preparing metadata (setup.py): started\n",
      "  Preparing metadata (setup.py): finished with status 'done'\n",
      "Collecting sacrebleu (from t5->trax==1.3.9)\n",
      "  Downloading sacrebleu-2.3.1-py3-none-any.whl (118 kB)\n",
      "     ------------------------------------ 118.9/118.9 kB 996.9 kB/s eta 0:00:00\n",
      "Requirement already satisfied: scikit-learn in c:\\users\\rt\\anaconda3\\envs\\nasrdl\\lib\\site-packages (from t5->trax==1.3.9) (1.0.2)\n",
      "Collecting sentencepiece (from t5->trax==1.3.9)\n",
      "  Downloading sentencepiece-0.1.99-cp37-cp37m-win_amd64.whl (977 kB)\n",
      "     -------------------------------------- 977.7/977.7 kB 1.1 MB/s eta 0:00:00\n",
      "Collecting seqio-nightly (from t5->trax==1.3.9)\n",
      "  Downloading seqio_nightly-0.0.15.dev20230516-py3-none-any.whl (342 kB)\n",
      "     ------------------------------------ 342.7/342.7 kB 685.5 kB/s eta 0:00:00\n",
      "Collecting tfds-nightly (from t5->trax==1.3.9)\n",
      "  Downloading tfds_nightly-4.8.2.dev202301270045-py3-none-any.whl (5.3 MB)\n",
      "     ---------------------------------------- 5.3/5.3 MB 1.4 MB/s eta 0:00:00\n",
      "Collecting transformers>=2.7.0 (from t5->trax==1.3.9)\n",
      "  Downloading transformers-4.29.2-py3-none-any.whl (7.1 MB)\n",
      "     ---------------------------------------- 7.1/7.1 MB 1.2 MB/s eta 0:00:00\n",
      "Requirement already satisfied: click in c:\\users\\rt\\anaconda3\\envs\\nasrdl\\lib\\site-packages (from tensorflow-datasets->trax==1.3.9) (8.0.4)\n",
      "Requirement already satisfied: dill in c:\\users\\rt\\anaconda3\\envs\\nasrdl\\lib\\site-packages (from tensorflow-datasets->trax==1.3.9) (0.3.6)\n",
      "Requirement already satisfied: dm-tree in c:\\users\\rt\\anaconda3\\envs\\nasrdl\\lib\\site-packages (from tensorflow-datasets->trax==1.3.9) (0.1.8)\n",
      "Requirement already satisfied: etils[enp,epath]>=0.9.0 in c:\\users\\rt\\anaconda3\\envs\\nasrdl\\lib\\site-packages (from tensorflow-datasets->trax==1.3.9) (0.9.0)\n",
      "Requirement already satisfied: promise in c:\\users\\rt\\anaconda3\\envs\\nasrdl\\lib\\site-packages (from tensorflow-datasets->trax==1.3.9) (2.3)\n",
      "Requirement already satisfied: protobuf>=3.12.2 in c:\\users\\rt\\anaconda3\\envs\\nasrdl\\lib\\site-packages (from tensorflow-datasets->trax==1.3.9) (3.19.6)\n",
      "Requirement already satisfied: requests>=2.19.0 in c:\\users\\rt\\anaconda3\\envs\\nasrdl\\lib\\site-packages (from tensorflow-datasets->trax==1.3.9) (2.28.1)\n",
      "Requirement already satisfied: tensorflow-metadata in c:\\users\\rt\\anaconda3\\envs\\nasrdl\\lib\\site-packages (from tensorflow-datasets->trax==1.3.9) (1.12.0)\n",
      "Requirement already satisfied: termcolor in c:\\users\\rt\\anaconda3\\envs\\nasrdl\\lib\\site-packages (from tensorflow-datasets->trax==1.3.9) (2.1.0)\n",
      "Requirement already satisfied: toml in c:\\users\\rt\\anaconda3\\envs\\nasrdl\\lib\\site-packages (from tensorflow-datasets->trax==1.3.9) (0.10.2)\n",
      "Requirement already satisfied: tqdm in c:\\users\\rt\\anaconda3\\envs\\nasrdl\\lib\\site-packages (from tensorflow-datasets->trax==1.3.9) (4.64.1)\n",
      "Requirement already satisfied: wrapt in c:\\users\\rt\\anaconda3\\envs\\nasrdl\\lib\\site-packages (from tensorflow-datasets->trax==1.3.9) (1.14.1)\n",
      "Requirement already satisfied: importlib-resources in c:\\users\\rt\\anaconda3\\envs\\nasrdl\\lib\\site-packages (from tensorflow-datasets->trax==1.3.9) (5.2.0)\n",
      "Requirement already satisfied: tensorflow-hub>=0.8.0 in c:\\users\\rt\\anaconda3\\envs\\nasrdl\\lib\\site-packages (from tensorflow-text->trax==1.3.9) (0.13.0)\n",
      "Requirement already satisfied: tensorflow<2.11,>=2.10.0 in c:\\users\\rt\\anaconda3\\envs\\nasrdl\\lib\\site-packages (from tensorflow-text->trax==1.3.9) (2.10.1)\n",
      "Requirement already satisfied: zipp in c:\\users\\rt\\anaconda3\\envs\\nasrdl\\lib\\site-packages (from etils[enp,epath]>=0.9.0->tensorflow-datasets->trax==1.3.9) (3.11.0)\n",
      "Collecting future (from mesh-tensorflow[transformer]>=0.1.13->t5->trax==1.3.9)\n",
      "  Downloading future-0.18.3.tar.gz (840 kB)\n",
      "     ------------------------------------ 840.9/840.9 kB 699.8 kB/s eta 0:00:00\n",
      "  Preparing metadata (setup.py): started\n",
      "  Preparing metadata (setup.py): finished with status 'done'\n",
      "Requirement already satisfied: charset-normalizer<3,>=2 in c:\\users\\rt\\anaconda3\\envs\\nasrdl\\lib\\site-packages (from requests>=2.19.0->tensorflow-datasets->trax==1.3.9) (2.0.4)\n",
      "Requirement already satisfied: idna<4,>=2.5 in c:\\users\\rt\\anaconda3\\envs\\nasrdl\\lib\\site-packages (from requests>=2.19.0->tensorflow-datasets->trax==1.3.9) (3.4)\n",
      "Requirement already satisfied: urllib3<1.27,>=1.21.1 in c:\\users\\rt\\anaconda3\\envs\\nasrdl\\lib\\site-packages (from requests>=2.19.0->tensorflow-datasets->trax==1.3.9) (1.26.14)\n",
      "Requirement already satisfied: certifi>=2017.4.17 in c:\\users\\rt\\anaconda3\\envs\\nasrdl\\lib\\site-packages (from requests>=2.19.0->tensorflow-datasets->trax==1.3.9) (2022.12.7)\n",
      "Requirement already satisfied: astunparse>=1.6.0 in c:\\users\\rt\\anaconda3\\envs\\nasrdl\\lib\\site-packages (from tensorflow<2.11,>=2.10.0->tensorflow-text->trax==1.3.9) (1.6.3)\n",
      "Requirement already satisfied: gast<=0.4.0,>=0.2.1 in c:\\users\\rt\\anaconda3\\envs\\nasrdl\\lib\\site-packages (from tensorflow<2.11,>=2.10.0->tensorflow-text->trax==1.3.9) (0.4.0)\n",
      "Requirement already satisfied: google-pasta>=0.1.1 in c:\\users\\rt\\anaconda3\\envs\\nasrdl\\lib\\site-packages (from tensorflow<2.11,>=2.10.0->tensorflow-text->trax==1.3.9) (0.2.0)\n",
      "Requirement already satisfied: h5py>=2.9.0 in c:\\users\\rt\\anaconda3\\envs\\nasrdl\\lib\\site-packages (from tensorflow<2.11,>=2.10.0->tensorflow-text->trax==1.3.9) (3.8.0)\n",
      "Requirement already satisfied: keras-preprocessing>=1.1.1 in c:\\users\\rt\\anaconda3\\envs\\nasrdl\\lib\\site-packages (from tensorflow<2.11,>=2.10.0->tensorflow-text->trax==1.3.9) (1.1.2)\n",
      "Requirement already satisfied: libclang>=13.0.0 in c:\\users\\rt\\anaconda3\\envs\\nasrdl\\lib\\site-packages (from tensorflow<2.11,>=2.10.0->tensorflow-text->trax==1.3.9) (16.0.0)\n",
      "Requirement already satisfied: setuptools in c:\\users\\rt\\anaconda3\\envs\\nasrdl\\lib\\site-packages (from tensorflow<2.11,>=2.10.0->tensorflow-text->trax==1.3.9) (65.6.3)\n",
      "Requirement already satisfied: tensorflow-io-gcs-filesystem>=0.23.1 in c:\\users\\rt\\anaconda3\\envs\\nasrdl\\lib\\site-packages (from tensorflow<2.11,>=2.10.0->tensorflow-text->trax==1.3.9) (0.31.0)\n",
      "Requirement already satisfied: grpcio<2.0,>=1.24.3 in c:\\users\\rt\\anaconda3\\envs\\nasrdl\\lib\\site-packages (from tensorflow<2.11,>=2.10.0->tensorflow-text->trax==1.3.9) (1.42.0)\n",
      "Requirement already satisfied: tensorboard<2.11,>=2.10 in c:\\users\\rt\\anaconda3\\envs\\nasrdl\\lib\\site-packages (from tensorflow<2.11,>=2.10.0->tensorflow-text->trax==1.3.9) (2.10.1)\n",
      "Requirement already satisfied: tensorflow-estimator<2.11,>=2.10.0 in c:\\users\\rt\\anaconda3\\envs\\nasrdl\\lib\\site-packages (from tensorflow<2.11,>=2.10.0->tensorflow-text->trax==1.3.9) (2.10.0)\n",
      "Requirement already satisfied: keras<2.11,>=2.10.0 in c:\\users\\rt\\anaconda3\\envs\\nasrdl\\lib\\site-packages (from tensorflow<2.11,>=2.10.0->tensorflow-text->trax==1.3.9) (2.10.0)\n",
      "Collecting filelock (from transformers>=2.7.0->t5->trax==1.3.9)\n",
      "  Downloading filelock-3.12.0-py3-none-any.whl (10 kB)\n",
      "Collecting huggingface-hub<1.0,>=0.14.1 (from transformers>=2.7.0->t5->trax==1.3.9)\n",
      "  Downloading huggingface_hub-0.14.1-py3-none-any.whl (224 kB)\n",
      "     ------------------------------------ 224.5/224.5 kB 915.6 kB/s eta 0:00:00\n",
      "Requirement already satisfied: pyyaml>=5.1 in c:\\users\\rt\\anaconda3\\envs\\nasrdl\\lib\\site-packages (from transformers>=2.7.0->t5->trax==1.3.9) (6.0)\n",
      "Requirement already satisfied: regex!=2019.12.17 in c:\\users\\rt\\anaconda3\\envs\\nasrdl\\lib\\site-packages (from transformers>=2.7.0->t5->trax==1.3.9) (2022.10.31)\n",
      "Collecting tokenizers!=0.11.3,<0.14,>=0.11.1 (from transformers>=2.7.0->t5->trax==1.3.9)\n",
      "  Downloading tokenizers-0.13.3-cp37-cp37m-win_amd64.whl (3.5 MB)\n",
      "     ---------------------------------------- 3.5/3.5 MB 1.6 MB/s eta 0:00:00\n",
      "Requirement already satisfied: colorama in c:\\users\\rt\\anaconda3\\envs\\nasrdl\\lib\\site-packages (from tqdm->tensorflow-datasets->trax==1.3.9) (0.4.6)\n",
      "Requirement already satisfied: pytz>=2015.7 in c:\\users\\rt\\anaconda3\\envs\\nasrdl\\lib\\site-packages (from babel->t5->trax==1.3.9) (2022.7)\n",
      "Requirement already satisfied: joblib in c:\\users\\rt\\anaconda3\\envs\\nasrdl\\lib\\site-packages (from nltk->t5->trax==1.3.9) (1.1.1)\n",
      "Collecting portalocker (from sacrebleu->t5->trax==1.3.9)\n",
      "  Downloading portalocker-2.7.0-py2.py3-none-any.whl (15 kB)\n",
      "Collecting tabulate>=0.8.9 (from sacrebleu->t5->trax==1.3.9)\n",
      "  Downloading tabulate-0.9.0-py3-none-any.whl (35 kB)\n",
      "Requirement already satisfied: lxml in c:\\users\\rt\\anaconda3\\envs\\nasrdl\\lib\\site-packages (from sacrebleu->t5->trax==1.3.9) (4.9.1)\n",
      "Requirement already satisfied: threadpoolctl>=2.0.0 in c:\\users\\rt\\anaconda3\\envs\\nasrdl\\lib\\site-packages (from scikit-learn->t5->trax==1.3.9) (2.2.0)\n",
      "Collecting clu (from seqio-nightly->t5->trax==1.3.9)\n",
      "  Downloading clu-0.0.9-py3-none-any.whl (98 kB)\n",
      "     ---------------------------------------- 98.2/98.2 kB 1.1 MB/s eta 0:00:00\n",
      "Collecting pyglove (from seqio-nightly->t5->trax==1.3.9)\n",
      "  Downloading pyglove-0.3.0-py3-none-any.whl (505 kB)\n",
      "     -------------------------------------- 505.6/505.6 kB 1.9 MB/s eta 0:00:00\n",
      "Requirement already satisfied: googleapis-common-protos<2,>=1.52.0 in c:\\users\\rt\\anaconda3\\envs\\nasrdl\\lib\\site-packages (from tensorflow-metadata->tensorflow-datasets->trax==1.3.9) (1.59.0)\n",
      "Requirement already satisfied: wheel<1.0,>=0.23.0 in c:\\users\\rt\\anaconda3\\envs\\nasrdl\\lib\\site-packages (from astunparse>=1.6.0->tensorflow<2.11,>=2.10.0->tensorflow-text->trax==1.3.9) (0.38.4)\n",
      "Collecting fsspec (from huggingface-hub<1.0,>=0.14.1->transformers>=2.7.0->t5->trax==1.3.9)\n",
      "  Downloading fsspec-2023.1.0-py3-none-any.whl (143 kB)\n",
      "     -------------------------------------- 143.0/143.0 kB 1.2 MB/s eta 0:00:00\n",
      "Requirement already satisfied: google-auth<3,>=1.6.3 in c:\\users\\rt\\anaconda3\\envs\\nasrdl\\lib\\site-packages (from tensorboard<2.11,>=2.10->tensorflow<2.11,>=2.10.0->tensorflow-text->trax==1.3.9) (2.18.0)\n",
      "Requirement already satisfied: google-auth-oauthlib<0.5,>=0.4.1 in c:\\users\\rt\\anaconda3\\envs\\nasrdl\\lib\\site-packages (from tensorboard<2.11,>=2.10->tensorflow<2.11,>=2.10.0->tensorflow-text->trax==1.3.9) (0.4.6)\n",
      "Requirement already satisfied: markdown>=2.6.8 in c:\\users\\rt\\anaconda3\\envs\\nasrdl\\lib\\site-packages (from tensorboard<2.11,>=2.10->tensorflow<2.11,>=2.10.0->tensorflow-text->trax==1.3.9) (3.4.3)\n",
      "Requirement already satisfied: tensorboard-data-server<0.7.0,>=0.6.0 in c:\\users\\rt\\anaconda3\\envs\\nasrdl\\lib\\site-packages (from tensorboard<2.11,>=2.10->tensorflow<2.11,>=2.10.0->tensorflow-text->trax==1.3.9) (0.6.1)\n",
      "Requirement already satisfied: tensorboard-plugin-wit>=1.6.0 in c:\\users\\rt\\anaconda3\\envs\\nasrdl\\lib\\site-packages (from tensorboard<2.11,>=2.10->tensorflow<2.11,>=2.10.0->tensorflow-text->trax==1.3.9) (1.8.1)\n",
      "Requirement already satisfied: werkzeug>=1.0.1 in c:\\users\\rt\\anaconda3\\envs\\nasrdl\\lib\\site-packages (from tensorboard<2.11,>=2.10->tensorflow<2.11,>=2.10.0->tensorflow-text->trax==1.3.9) (2.2.3)\n",
      "Collecting flax (from clu->seqio-nightly->t5->trax==1.3.9)\n",
      "  Downloading flax-0.6.10-py3-none-any.whl (226 kB)\n",
      "     -------------------------------------- 226.1/226.1 kB 1.4 MB/s eta 0:00:00\n",
      "Collecting ml-collections (from clu->seqio-nightly->t5->trax==1.3.9)\n",
      "  Downloading ml_collections-0.1.1.tar.gz (77 kB)\n",
      "     -------------------------------------- 77.9/77.9 kB 719.9 kB/s eta 0:00:00\n",
      "  Preparing metadata (setup.py): started\n",
      "  Preparing metadata (setup.py): finished with status 'done'\n",
      "Requirement already satisfied: pywin32>=226 in c:\\users\\rt\\anaconda3\\envs\\nasrdl\\lib\\site-packages (from portalocker->sacrebleu->t5->trax==1.3.9) (305.1)\n",
      "Requirement already satisfied: cachetools<6.0,>=2.0.0 in c:\\users\\rt\\anaconda3\\envs\\nasrdl\\lib\\site-packages (from google-auth<3,>=1.6.3->tensorboard<2.11,>=2.10->tensorflow<2.11,>=2.10.0->tensorflow-text->trax==1.3.9) (5.3.0)\n",
      "Requirement already satisfied: pyasn1-modules>=0.2.1 in c:\\users\\rt\\anaconda3\\envs\\nasrdl\\lib\\site-packages (from google-auth<3,>=1.6.3->tensorboard<2.11,>=2.10->tensorflow<2.11,>=2.10.0->tensorflow-text->trax==1.3.9) (0.3.0)\n",
      "Requirement already satisfied: rsa<5,>=3.1.4 in c:\\users\\rt\\anaconda3\\envs\\nasrdl\\lib\\site-packages (from google-auth<3,>=1.6.3->tensorboard<2.11,>=2.10->tensorflow<2.11,>=2.10.0->tensorflow-text->trax==1.3.9) (4.9)\n",
      "Requirement already satisfied: requests-oauthlib>=0.7.0 in c:\\users\\rt\\anaconda3\\envs\\nasrdl\\lib\\site-packages (from google-auth-oauthlib<0.5,>=0.4.1->tensorboard<2.11,>=2.10->tensorflow<2.11,>=2.10.0->tensorflow-text->trax==1.3.9) (1.3.1)\n",
      "Requirement already satisfied: MarkupSafe>=2.1.1 in c:\\users\\rt\\anaconda3\\envs\\nasrdl\\lib\\site-packages (from werkzeug>=1.0.1->tensorboard<2.11,>=2.10->tensorflow<2.11,>=2.10.0->tensorflow-text->trax==1.3.9) (2.1.1)\n",
      "INFO: pip is looking at multiple versions of flax to determine which version is compatible with other requirements. This could take a while.\n",
      "Collecting flax (from clu->seqio-nightly->t5->trax==1.3.9)\n",
      "  Downloading flax-0.6.9-py3-none-any.whl (226 kB)\n",
      "     ------------------------------------ 226.2/226.2 kB 768.5 kB/s eta 0:00:00\n",
      "  Downloading flax-0.6.8-py3-none-any.whl (216 kB)\n",
      "     ------------------------------------ 216.0/216.0 kB 879.4 kB/s eta 0:00:00\n",
      "  Downloading flax-0.6.7-py3-none-any.whl (214 kB)\n",
      "     ------------------------------------ 214.2/214.2 kB 935.6 kB/s eta 0:00:00\n",
      "  Downloading flax-0.6.6-py3-none-any.whl (210 kB)\n",
      "     ------------------------------------ 210.1/210.1 kB 850.3 kB/s eta 0:00:00\n",
      "  Downloading flax-0.6.4-py3-none-any.whl (204 kB)\n",
      "     ------------------------------------ 204.3/204.3 kB 776.3 kB/s eta 0:00:00\n",
      "Collecting msgpack (from flax->clu->seqio-nightly->t5->trax==1.3.9)\n",
      "  Downloading msgpack-1.0.5-cp37-cp37m-win_amd64.whl (62 kB)\n",
      "     -------------------------------------- 62.1/62.1 kB 823.4 kB/s eta 0:00:00\n",
      "Collecting optax (from flax->clu->seqio-nightly->t5->trax==1.3.9)\n",
      "  Downloading optax-0.1.4-py3-none-any.whl (154 kB)\n",
      "     ------------------------------------ 154.9/154.9 kB 921.2 kB/s eta 0:00:00\n",
      "Collecting orbax (from flax->clu->seqio-nightly->t5->trax==1.3.9)\n",
      "  Downloading orbax-0.1.0-py3-none-any.whl (66 kB)\n",
      "     -------------------------------------- 67.0/67.0 kB 727.6 kB/s eta 0:00:00\n",
      "Collecting tensorstore (from flax->clu->seqio-nightly->t5->trax==1.3.9)\n",
      "  Downloading tensorstore-0.1.28-cp37-cp37m-win_amd64.whl (6.6 MB)\n",
      "     ---------------------------------------- 6.6/6.6 MB 997.1 kB/s eta 0:00:00\n",
      "Collecting rich>=11.1 (from flax->clu->seqio-nightly->t5->trax==1.3.9)\n",
      "  Downloading rich-13.3.5-py3-none-any.whl (238 kB)\n",
      "     ------------------------------------ 238.7/238.7 kB 732.3 kB/s eta 0:00:00\n",
      "Collecting contextlib2 (from ml-collections->clu->seqio-nightly->t5->trax==1.3.9)\n",
      "  Downloading contextlib2-21.6.0-py2.py3-none-any.whl (13 kB)\n",
      "Requirement already satisfied: pyasn1<0.6.0,>=0.4.6 in c:\\users\\rt\\anaconda3\\envs\\nasrdl\\lib\\site-packages (from pyasn1-modules>=0.2.1->google-auth<3,>=1.6.3->tensorboard<2.11,>=2.10->tensorflow<2.11,>=2.10.0->tensorflow-text->trax==1.3.9) (0.5.0)\n",
      "Requirement already satisfied: oauthlib>=3.0.0 in c:\\users\\rt\\anaconda3\\envs\\nasrdl\\lib\\site-packages (from requests-oauthlib>=0.7.0->google-auth-oauthlib<0.5,>=0.4.1->tensorboard<2.11,>=2.10->tensorflow<2.11,>=2.10.0->tensorflow-text->trax==1.3.9) (3.2.2)\n",
      "Collecting markdown-it-py<3.0.0,>=2.2.0 (from rich>=11.1->flax->clu->seqio-nightly->t5->trax==1.3.9)\n",
      "  Downloading markdown_it_py-2.2.0-py3-none-any.whl (84 kB)\n",
      "     -------------------------------------- 84.5/84.5 kB 951.6 kB/s eta 0:00:00\n",
      "Collecting pygments<3.0.0,>=2.13.0 (from rich>=11.1->flax->clu->seqio-nightly->t5->trax==1.3.9)\n",
      "  Downloading Pygments-2.15.1-py3-none-any.whl (1.1 MB)\n",
      "     ---------------------------------------- 1.1/1.1 MB 1.3 MB/s eta 0:00:00\n",
      "Collecting chex>=0.1.5 (from optax->flax->clu->seqio-nightly->t5->trax==1.3.9)\n",
      "  Downloading chex-0.1.5-py3-none-any.whl (85 kB)\n",
      "     -------------------------------------- 85.3/85.3 kB 798.7 kB/s eta 0:00:00\n",
      "Collecting cached_property (from orbax->flax->clu->seqio-nightly->t5->trax==1.3.9)\n",
      "  Downloading cached_property-1.5.2-py2.py3-none-any.whl (7.6 kB)\n",
      "Collecting pytest (from orbax->flax->clu->seqio-nightly->t5->trax==1.3.9)\n",
      "  Downloading pytest-7.3.1-py3-none-any.whl (320 kB)\n",
      "     -------------------------------------- 320.5/320.5 kB 1.3 MB/s eta 0:00:00\n",
      "Collecting toolz>=0.9.0 (from chex>=0.1.5->optax->flax->clu->seqio-nightly->t5->trax==1.3.9)\n",
      "  Downloading toolz-0.12.0-py3-none-any.whl (55 kB)\n",
      "     -------------------------------------- 55.8/55.8 kB 265.1 kB/s eta 0:00:00\n",
      "Collecting mdurl~=0.1 (from markdown-it-py<3.0.0,>=2.2.0->rich>=11.1->flax->clu->seqio-nightly->t5->trax==1.3.9)\n",
      "  Downloading mdurl-0.1.2-py3-none-any.whl (10.0 kB)\n",
      "Collecting iniconfig (from pytest->orbax->flax->clu->seqio-nightly->t5->trax==1.3.9)\n",
      "  Downloading iniconfig-2.0.0-py3-none-any.whl (5.9 kB)\n",
      "Requirement already satisfied: pluggy<2.0,>=0.12 in c:\\users\\rt\\anaconda3\\envs\\nasrdl\\lib\\site-packages (from pytest->orbax->flax->clu->seqio-nightly->t5->trax==1.3.9) (1.0.0)\n",
      "Collecting exceptiongroup>=1.0.0rc8 (from pytest->orbax->flax->clu->seqio-nightly->t5->trax==1.3.9)\n",
      "  Downloading exceptiongroup-1.1.1-py3-none-any.whl (14 kB)\n",
      "Requirement already satisfied: tomli>=1.0.0 in c:\\users\\rt\\anaconda3\\envs\\nasrdl\\lib\\site-packages (from pytest->orbax->flax->clu->seqio-nightly->t5->trax==1.3.9) (2.0.1)\n",
      "Building wheels for collected packages: rouge-score, future, ml-collections\n",
      "  Building wheel for rouge-score (setup.py): started\n",
      "  Building wheel for rouge-score (setup.py): finished with status 'done'\n",
      "  Created wheel for rouge-score: filename=rouge_score-0.1.2-py3-none-any.whl size=24972 sha256=02813f4d2c518aff31c9c4c4123270c7a9affcf58c3ca5ebbde26a0917d3be7b\n",
      "  Stored in directory: c:\\users\\rt\\appdata\\local\\pip\\cache\\wheels\\84\\ac\\6b\\38096e3c5bf1dc87911e3585875e21a3ac610348e740409c76\n",
      "  Building wheel for future (setup.py): started\n",
      "  Building wheel for future (setup.py): finished with status 'done'\n",
      "  Created wheel for future: filename=future-0.18.3-py3-none-any.whl size=492055 sha256=3efbb6b13e9b34b406f70a6c749c3b1f8bbb8b32544a679a94889903fba35015\n",
      "  Stored in directory: c:\\users\\rt\\appdata\\local\\pip\\cache\\wheels\\fa\\cd\\1f\\c6b7b50b564983bf3011e8fc75d06047ddc50c07f6e3660b00\n",
      "  Building wheel for ml-collections (setup.py): started\n",
      "  Building wheel for ml-collections (setup.py): finished with status 'done'\n",
      "  Created wheel for ml-collections: filename=ml_collections-0.1.1-py3-none-any.whl size=94597 sha256=5aa3561e04901b480dc22dd267ad161933cd3fef734528f90aaddd0ee8a408f5\n",
      "  Stored in directory: c:\\users\\rt\\appdata\\local\\pip\\cache\\wheels\\b7\\da\\64\\33c926a1b10ff19791081b705879561b715a8341a856a3bbd2\n",
      "Successfully built rouge-score future ml-collections\n",
      "Installing collected packages: tokenizers, sentencepiece, pyglove, msgpack, cached_property, toolz, tensorstore, tabulate, pygments, portalocker, mdurl, iniconfig, immutabledict, future, fsspec, filelock, exceptiongroup, editdistance, contextlib2, sacrebleu, ml-collections, mesh-tensorflow, markdown-it-py, huggingface-hub, transformers, tfds-nightly, rich, pytest, chex, rouge-score, optax, orbax, flax, clu, seqio-nightly, t5, trax\n",
      "  Attempting uninstall: pygments\n",
      "    Found existing installation: Pygments 2.11.2\n",
      "    Uninstalling Pygments-2.11.2:\n",
      "      Successfully uninstalled Pygments-2.11.2\n",
      "  Attempting uninstall: trax\n",
      "    Found existing installation: trax 1.4.1\n",
      "    Uninstalling trax-1.4.1:\n",
      "      Successfully uninstalled trax-1.4.1\n",
      "Successfully installed cached_property-1.5.2 chex-0.1.5 clu-0.0.9 contextlib2-21.6.0 editdistance-0.6.2 exceptiongroup-1.1.1 filelock-3.12.0 flax-0.6.4 fsspec-2023.1.0 future-0.18.3 huggingface-hub-0.14.1 immutabledict-2.2.4 iniconfig-2.0.0 markdown-it-py-2.2.0 mdurl-0.1.2 mesh-tensorflow-0.1.21 ml-collections-0.1.1 msgpack-1.0.5 optax-0.1.4 orbax-0.1.0 portalocker-2.7.0 pyglove-0.3.0 pygments-2.15.1 pytest-7.3.1 rich-13.3.5 rouge-score-0.1.2 sacrebleu-2.3.1 sentencepiece-0.1.99 seqio-nightly-0.0.15.dev20230516 t5-0.9.4 tabulate-0.9.0 tensorstore-0.1.28 tfds-nightly-4.8.2.dev202301270045 tokenizers-0.13.3 toolz-0.12.0 transformers-4.29.2 trax-1.3.9\n"
     ]
    }
   ],
   "source": [
    "!pip install trax==1.3.9"
   ]
  },
  {
   "cell_type": "code",
   "execution_count": 3,
   "id": "d9bf024e",
   "metadata": {},
   "outputs": [
    {
     "name": "stdout",
     "output_type": "stream",
     "text": [
      "Requirement already satisfied: jax in c:\\users\\rt\\anaconda3\\envs\\nasrdl\\lib\\site-packages (0.3.25)\n",
      "Requirement already satisfied: jaxlib in c:\\users\\rt\\anaconda3\\envs\\nasrdl\\lib\\site-packages (0.1.70)\n",
      "Requirement already satisfied: numpy>=1.20 in c:\\users\\rt\\anaconda3\\envs\\nasrdl\\lib\\site-packages (from jax) (1.21.5)\n",
      "Requirement already satisfied: opt-einsum in c:\\users\\rt\\anaconda3\\envs\\nasrdl\\lib\\site-packages (from jax) (3.3.0)\n",
      "Requirement already satisfied: scipy>=1.5 in c:\\users\\rt\\anaconda3\\envs\\nasrdl\\lib\\site-packages (from jax) (1.7.3)\n",
      "Requirement already satisfied: typing-extensions in c:\\users\\rt\\anaconda3\\envs\\nasrdl\\lib\\site-packages (from jax) (4.4.0)\n",
      "Requirement already satisfied: absl-py in c:\\users\\rt\\anaconda3\\envs\\nasrdl\\lib\\site-packages (from jaxlib) (1.3.0)\n",
      "Requirement already satisfied: flatbuffers<3.0,>=1.12 in c:\\users\\rt\\anaconda3\\envs\\nasrdl\\lib\\site-packages (from jaxlib) (2.0.7)\n"
     ]
    }
   ],
   "source": [
    "!pip install --upgrade jax jaxlib\n"
   ]
  },
  {
   "cell_type": "code",
   "execution_count": 5,
   "id": "4ec8ea3f",
   "metadata": {},
   "outputs": [
    {
     "name": "stdout",
     "output_type": "stream",
     "text": [
      "Requirement already satisfied: jax in c:\\users\\rt\\anaconda3\\envs\\nasrdl\\lib\\site-packages (0.3.25)\n",
      "Requirement already satisfied: numpy>=1.20 in c:\\users\\rt\\anaconda3\\envs\\nasrdl\\lib\\site-packages (from jax) (1.21.5)\n",
      "Requirement already satisfied: opt-einsum in c:\\users\\rt\\anaconda3\\envs\\nasrdl\\lib\\site-packages (from jax) (3.3.0)\n",
      "Requirement already satisfied: scipy>=1.5 in c:\\users\\rt\\anaconda3\\envs\\nasrdl\\lib\\site-packages (from jax) (1.7.3)\n",
      "Requirement already satisfied: typing-extensions in c:\\users\\rt\\anaconda3\\envs\\nasrdl\\lib\\site-packages (from jax) (4.4.0)\n"
     ]
    }
   ],
   "source": [
    "!pip install --upgrade jax\n"
   ]
  },
  {
   "cell_type": "code",
   "execution_count": 8,
   "id": "3a2cf6d2",
   "metadata": {},
   "outputs": [
    {
     "ename": "AttributeError",
     "evalue": "module 'jax' has no attribute 'version'",
     "output_type": "error",
     "traceback": [
      "\u001b[1;31m---------------------------------------------------------------------------\u001b[0m",
      "\u001b[1;31mAttributeError\u001b[0m                            Traceback (most recent call last)",
      "\u001b[1;32m~\\AppData\\Local\\Temp\\ipykernel_11132\\1951227130.py\u001b[0m in \u001b[0;36m<module>\u001b[1;34m\u001b[0m\n\u001b[1;32m----> 1\u001b[1;33m \u001b[1;32mimport\u001b[0m \u001b[0mtrax\u001b[0m\u001b[1;33m\u001b[0m\u001b[1;33m\u001b[0m\u001b[0m\n\u001b[0m",
      "\u001b[1;32m~\\anaconda3\\envs\\nasrdl\\lib\\site-packages\\trax\\__init__.py\u001b[0m in \u001b[0;36m<module>\u001b[1;34m\u001b[0m\n\u001b[0;32m     16\u001b[0m \u001b[1;34m\"\"\"Trax top level import.\"\"\"\u001b[0m\u001b[1;33m\u001b[0m\u001b[1;33m\u001b[0m\u001b[0m\n\u001b[0;32m     17\u001b[0m \u001b[1;33m\u001b[0m\u001b[0m\n\u001b[1;32m---> 18\u001b[1;33m \u001b[1;32mfrom\u001b[0m \u001b[0mtrax\u001b[0m \u001b[1;32mimport\u001b[0m \u001b[0mdata\u001b[0m\u001b[1;33m\u001b[0m\u001b[1;33m\u001b[0m\u001b[0m\n\u001b[0m\u001b[0;32m     19\u001b[0m \u001b[1;32mfrom\u001b[0m \u001b[0mtrax\u001b[0m \u001b[1;32mimport\u001b[0m \u001b[0mfastmath\u001b[0m\u001b[1;33m\u001b[0m\u001b[1;33m\u001b[0m\u001b[0m\n\u001b[0;32m     20\u001b[0m \u001b[1;32mfrom\u001b[0m \u001b[0mtrax\u001b[0m \u001b[1;32mimport\u001b[0m \u001b[0mlayers\u001b[0m\u001b[1;33m\u001b[0m\u001b[1;33m\u001b[0m\u001b[0m\n",
      "\u001b[1;32m~\\anaconda3\\envs\\nasrdl\\lib\\site-packages\\trax\\data\\__init__.py\u001b[0m in \u001b[0;36m<module>\u001b[1;34m\u001b[0m\n\u001b[0;32m     34\u001b[0m \u001b[1;32mfrom\u001b[0m \u001b[0mtrax\u001b[0m\u001b[1;33m.\u001b[0m\u001b[0mdata\u001b[0m\u001b[1;33m.\u001b[0m\u001b[0mdebug_data_pipeline\u001b[0m \u001b[1;32mimport\u001b[0m \u001b[0mdebug_pipeline\u001b[0m\u001b[1;33m\u001b[0m\u001b[1;33m\u001b[0m\u001b[0m\n\u001b[0;32m     35\u001b[0m \u001b[1;33m\u001b[0m\u001b[0m\n\u001b[1;32m---> 36\u001b[1;33m \u001b[1;32mfrom\u001b[0m \u001b[0mtrax\u001b[0m\u001b[1;33m.\u001b[0m\u001b[0mdata\u001b[0m\u001b[1;33m.\u001b[0m\u001b[0minputs\u001b[0m \u001b[1;32mimport\u001b[0m \u001b[0madd_loss_weights\u001b[0m\u001b[1;33m\u001b[0m\u001b[1;33m\u001b[0m\u001b[0m\n\u001b[0m\u001b[0;32m     37\u001b[0m \u001b[1;32mfrom\u001b[0m \u001b[0mtrax\u001b[0m\u001b[1;33m.\u001b[0m\u001b[0mdata\u001b[0m\u001b[1;33m.\u001b[0m\u001b[0minputs\u001b[0m \u001b[1;32mimport\u001b[0m \u001b[0maddition_inputs\u001b[0m\u001b[1;33m\u001b[0m\u001b[1;33m\u001b[0m\u001b[0m\n\u001b[0;32m     38\u001b[0m \u001b[1;32mfrom\u001b[0m \u001b[0mtrax\u001b[0m\u001b[1;33m.\u001b[0m\u001b[0mdata\u001b[0m\u001b[1;33m.\u001b[0m\u001b[0minputs\u001b[0m \u001b[1;32mimport\u001b[0m \u001b[0mAddLossWeights\u001b[0m\u001b[1;33m\u001b[0m\u001b[1;33m\u001b[0m\u001b[0m\n",
      "\u001b[1;32m~\\anaconda3\\envs\\nasrdl\\lib\\site-packages\\trax\\data\\inputs.py\u001b[0m in \u001b[0;36m<module>\u001b[1;34m\u001b[0m\n\u001b[0;32m     81\u001b[0m \u001b[1;32mfrom\u001b[0m \u001b[0mabsl\u001b[0m \u001b[1;32mimport\u001b[0m \u001b[0mlogging\u001b[0m\u001b[1;33m\u001b[0m\u001b[1;33m\u001b[0m\u001b[0m\n\u001b[0;32m     82\u001b[0m \u001b[1;32mimport\u001b[0m \u001b[0mgin\u001b[0m\u001b[1;33m\u001b[0m\u001b[1;33m\u001b[0m\u001b[0m\n\u001b[1;32m---> 83\u001b[1;33m \u001b[1;32mimport\u001b[0m \u001b[0mjax\u001b[0m\u001b[1;33m\u001b[0m\u001b[1;33m\u001b[0m\u001b[0m\n\u001b[0m\u001b[0;32m     84\u001b[0m \u001b[1;32mimport\u001b[0m \u001b[0mnumpy\u001b[0m \u001b[1;32mas\u001b[0m \u001b[0mnp\u001b[0m\u001b[1;33m\u001b[0m\u001b[1;33m\u001b[0m\u001b[0m\n\u001b[0;32m     85\u001b[0m \u001b[1;32mimport\u001b[0m \u001b[0mtensorflow\u001b[0m \u001b[1;32mas\u001b[0m \u001b[0mtf\u001b[0m\u001b[1;33m\u001b[0m\u001b[1;33m\u001b[0m\u001b[0m\n",
      "\u001b[1;32m~\\anaconda3\\envs\\nasrdl\\lib\\site-packages\\jax\\__init__.py\u001b[0m in \u001b[0;36m<module>\u001b[1;34m\u001b[0m\n\u001b[0;32m     33\u001b[0m \u001b[1;31m# We want the exported object to be the class, so we first import the module\u001b[0m\u001b[1;33m\u001b[0m\u001b[1;33m\u001b[0m\u001b[1;33m\u001b[0m\u001b[0m\n\u001b[0;32m     34\u001b[0m \u001b[1;31m# to make sure a later import doesn't overwrite the class.\u001b[0m\u001b[1;33m\u001b[0m\u001b[1;33m\u001b[0m\u001b[1;33m\u001b[0m\u001b[0m\n\u001b[1;32m---> 35\u001b[1;33m \u001b[1;32mfrom\u001b[0m \u001b[0mjax\u001b[0m \u001b[1;32mimport\u001b[0m \u001b[0mconfig\u001b[0m \u001b[1;32mas\u001b[0m \u001b[0m_config_module\u001b[0m\u001b[1;33m\u001b[0m\u001b[1;33m\u001b[0m\u001b[0m\n\u001b[0m\u001b[0;32m     36\u001b[0m \u001b[1;32mdel\u001b[0m \u001b[0m_config_module\u001b[0m\u001b[1;33m\u001b[0m\u001b[1;33m\u001b[0m\u001b[0m\n\u001b[0;32m     37\u001b[0m \u001b[1;33m\u001b[0m\u001b[0m\n",
      "\u001b[1;32m~\\anaconda3\\envs\\nasrdl\\lib\\site-packages\\jax\\config.py\u001b[0m in \u001b[0;36m<module>\u001b[1;34m\u001b[0m\n\u001b[0;32m     15\u001b[0m \u001b[1;31m# TODO(phawkins): fix users of this alias and delete this file.\u001b[0m\u001b[1;33m\u001b[0m\u001b[1;33m\u001b[0m\u001b[1;33m\u001b[0m\u001b[0m\n\u001b[0;32m     16\u001b[0m \u001b[1;33m\u001b[0m\u001b[0m\n\u001b[1;32m---> 17\u001b[1;33m \u001b[1;32mfrom\u001b[0m \u001b[0mjax\u001b[0m\u001b[1;33m.\u001b[0m\u001b[0m_src\u001b[0m\u001b[1;33m.\u001b[0m\u001b[0mconfig\u001b[0m \u001b[1;32mimport\u001b[0m \u001b[0mconfig\u001b[0m  \u001b[1;31m# noqa: F401\u001b[0m\u001b[1;33m\u001b[0m\u001b[1;33m\u001b[0m\u001b[0m\n\u001b[0m",
      "\u001b[1;32m~\\anaconda3\\envs\\nasrdl\\lib\\site-packages\\jax\\_src\\config.py\u001b[0m in \u001b[0;36m<module>\u001b[1;34m\u001b[0m\n\u001b[0;32m     25\u001b[0m \u001b[1;32mfrom\u001b[0m \u001b[0mtyping\u001b[0m \u001b[1;32mimport\u001b[0m \u001b[0mAny\u001b[0m\u001b[1;33m,\u001b[0m \u001b[0mList\u001b[0m\u001b[1;33m,\u001b[0m \u001b[0mCallable\u001b[0m\u001b[1;33m,\u001b[0m \u001b[0mHashable\u001b[0m\u001b[1;33m,\u001b[0m \u001b[0mNamedTuple\u001b[0m\u001b[1;33m,\u001b[0m \u001b[0mIterator\u001b[0m\u001b[1;33m,\u001b[0m \u001b[0mOptional\u001b[0m\u001b[1;33m\u001b[0m\u001b[1;33m\u001b[0m\u001b[0m\n\u001b[0;32m     26\u001b[0m \u001b[1;33m\u001b[0m\u001b[0m\n\u001b[1;32m---> 27\u001b[1;33m \u001b[1;32mfrom\u001b[0m \u001b[0mjax\u001b[0m\u001b[1;33m.\u001b[0m\u001b[0m_src\u001b[0m \u001b[1;32mimport\u001b[0m \u001b[0mlib\u001b[0m\u001b[1;33m\u001b[0m\u001b[1;33m\u001b[0m\u001b[0m\n\u001b[0m\u001b[0;32m     28\u001b[0m \u001b[1;32mfrom\u001b[0m \u001b[0mjax\u001b[0m\u001b[1;33m.\u001b[0m\u001b[0m_src\u001b[0m\u001b[1;33m.\u001b[0m\u001b[0mlib\u001b[0m \u001b[1;32mimport\u001b[0m \u001b[0mjax_jit\u001b[0m\u001b[1;33m\u001b[0m\u001b[1;33m\u001b[0m\u001b[0m\n\u001b[0;32m     29\u001b[0m \u001b[1;32mfrom\u001b[0m \u001b[0mjax\u001b[0m\u001b[1;33m.\u001b[0m\u001b[0m_src\u001b[0m\u001b[1;33m.\u001b[0m\u001b[0mlib\u001b[0m \u001b[1;32mimport\u001b[0m \u001b[0mtransfer_guard_lib\u001b[0m\u001b[1;33m\u001b[0m\u001b[1;33m\u001b[0m\u001b[0m\n",
      "\u001b[1;32m~\\anaconda3\\envs\\nasrdl\\lib\\site-packages\\jax\\_src\\lib\\__init__.py\u001b[0m in \u001b[0;36m<module>\u001b[1;34m\u001b[0m\n\u001b[0;32m     73\u001b[0m \u001b[0mversion_str\u001b[0m \u001b[1;33m=\u001b[0m \u001b[0mjaxlib\u001b[0m\u001b[1;33m.\u001b[0m\u001b[0mversion\u001b[0m\u001b[1;33m.\u001b[0m\u001b[0m__version__\u001b[0m\u001b[1;33m\u001b[0m\u001b[1;33m\u001b[0m\u001b[0m\n\u001b[0;32m     74\u001b[0m version = check_jaxlib_version(\n\u001b[1;32m---> 75\u001b[1;33m   \u001b[0mjax_version\u001b[0m\u001b[1;33m=\u001b[0m\u001b[0mjax\u001b[0m\u001b[1;33m.\u001b[0m\u001b[0mversion\u001b[0m\u001b[1;33m.\u001b[0m\u001b[0m__version__\u001b[0m\u001b[1;33m,\u001b[0m\u001b[1;33m\u001b[0m\u001b[1;33m\u001b[0m\u001b[0m\n\u001b[0m\u001b[0;32m     76\u001b[0m   \u001b[0mjaxlib_version\u001b[0m\u001b[1;33m=\u001b[0m\u001b[0mjaxlib\u001b[0m\u001b[1;33m.\u001b[0m\u001b[0mversion\u001b[0m\u001b[1;33m.\u001b[0m\u001b[0m__version__\u001b[0m\u001b[1;33m,\u001b[0m\u001b[1;33m\u001b[0m\u001b[1;33m\u001b[0m\u001b[0m\n\u001b[0;32m     77\u001b[0m   minimum_jaxlib_version=jax.version._minimum_jaxlib_version)\n",
      "\u001b[1;31mAttributeError\u001b[0m: module 'jax' has no attribute 'version'"
     ]
    }
   ],
   "source": [
    "import trax"
   ]
  },
  {
   "cell_type": "code",
   "execution_count": null,
   "id": "b95efc56",
   "metadata": {},
   "outputs": [],
   "source": [
    "!pip uninstall jax trax"
   ]
  },
  {
   "cell_type": "code",
   "execution_count": null,
   "id": "401d10ec",
   "metadata": {},
   "outputs": [],
   "source": [
    "!pip install jax trax"
   ]
  },
  {
   "cell_type": "code",
   "execution_count": 3,
   "id": "0278c3eb",
   "metadata": {},
   "outputs": [],
   "source": [
    "from tensorflow.keras.models import Sequential\n",
    "from tensorflow.keras.layers import Conv3D, MaxPooling3D, Flatten, Dense\n",
    "\n",
    "# Define the model architecture\n",
    "model = Sequential()\n",
    "model.add(Conv3D(32, kernel_size=(1, 3, 3), activation='relu', input_shape=(64, 64, 64, 3)))\n",
    "model.add(MaxPooling3D(pool_size=(1, 2, 2)))\n",
    "model.add(Conv3D(64, kernel_size=(1, 3, 3), activation='relu'))\n",
    "model.add(MaxPooling3D(pool_size=(1, 2, 2)))\n",
    "model.add(Flatten())\n",
    "model.add(Dense(128, activation='relu'))\n",
    "model.add(Dense(1, activation='sigmoid'))\n",
    "\n",
    "# Compile the model\n",
    "model.compile(loss='binary_crossentropy', optimizer='adam', metrics=['accuracy'])"
   ]
  },
  {
   "cell_type": "code",
   "execution_count": 4,
   "id": "443c00f5",
   "metadata": {},
   "outputs": [
    {
     "name": "stdout",
     "output_type": "stream",
     "text": [
      "Model: \"sequential_1\"\n",
      "_________________________________________________________________\n",
      " Layer (type)                Output Shape              Param #   \n",
      "=================================================================\n",
      " conv3d_2 (Conv3D)           (None, 64, 62, 62, 32)    896       \n",
      "                                                                 \n",
      " max_pooling3d_2 (MaxPooling  (None, 64, 31, 31, 32)   0         \n",
      " 3D)                                                             \n",
      "                                                                 \n",
      " conv3d_3 (Conv3D)           (None, 64, 29, 29, 64)    18496     \n",
      "                                                                 \n",
      " max_pooling3d_3 (MaxPooling  (None, 64, 14, 14, 64)   0         \n",
      " 3D)                                                             \n",
      "                                                                 \n",
      " flatten_1 (Flatten)         (None, 802816)            0         \n",
      "                                                                 \n",
      " dense_2 (Dense)             (None, 128)               102760576 \n",
      "                                                                 \n",
      " dense_3 (Dense)             (None, 1)                 129       \n",
      "                                                                 \n",
      "=================================================================\n",
      "Total params: 102,780,097\n",
      "Trainable params: 102,780,097\n",
      "Non-trainable params: 0\n",
      "_________________________________________________________________\n"
     ]
    }
   ],
   "source": [
    "model.summary()"
   ]
  },
  {
   "cell_type": "code",
   "execution_count": 1,
   "id": "141f8076",
   "metadata": {},
   "outputs": [
    {
     "ename": "ImportError",
     "evalue": "Keras requires TensorFlow 2.2 or higher. Install TensorFlow via `pip install tensorflow`",
     "output_type": "error",
     "traceback": [
      "\u001b[1;31m---------------------------------------------------------------------------\u001b[0m",
      "\u001b[1;31mModuleNotFoundError\u001b[0m                       Traceback (most recent call last)",
      "\u001b[1;32m~\\anaconda3\\lib\\site-packages\\keras\\__init__.py\u001b[0m in \u001b[0;36m<module>\u001b[1;34m\u001b[0m\n\u001b[0;32m      2\u001b[0m \u001b[1;32mtry\u001b[0m\u001b[1;33m:\u001b[0m\u001b[1;33m\u001b[0m\u001b[1;33m\u001b[0m\u001b[0m\n\u001b[1;32m----> 3\u001b[1;33m     \u001b[1;32mfrom\u001b[0m \u001b[0mtensorflow\u001b[0m\u001b[1;33m.\u001b[0m\u001b[0mkeras\u001b[0m\u001b[1;33m.\u001b[0m\u001b[0mlayers\u001b[0m\u001b[1;33m.\u001b[0m\u001b[0mexperimental\u001b[0m\u001b[1;33m.\u001b[0m\u001b[0mpreprocessing\u001b[0m \u001b[1;32mimport\u001b[0m \u001b[0mRandomRotation\u001b[0m\u001b[1;33m\u001b[0m\u001b[1;33m\u001b[0m\u001b[0m\n\u001b[0m\u001b[0;32m      4\u001b[0m \u001b[1;32mexcept\u001b[0m \u001b[0mImportError\u001b[0m\u001b[1;33m:\u001b[0m\u001b[1;33m\u001b[0m\u001b[1;33m\u001b[0m\u001b[0m\n",
      "\u001b[1;31mModuleNotFoundError\u001b[0m: No module named 'tensorflow.keras'",
      "\nDuring handling of the above exception, another exception occurred:\n",
      "\u001b[1;31mImportError\u001b[0m                               Traceback (most recent call last)",
      "\u001b[1;32m<ipython-input-1-88d96843a926>\u001b[0m in \u001b[0;36m<module>\u001b[1;34m\u001b[0m\n\u001b[1;32m----> 1\u001b[1;33m \u001b[1;32mimport\u001b[0m \u001b[0mkeras\u001b[0m\u001b[1;33m\u001b[0m\u001b[1;33m\u001b[0m\u001b[0m\n\u001b[0m",
      "\u001b[1;32m~\\anaconda3\\lib\\site-packages\\keras\\__init__.py\u001b[0m in \u001b[0;36m<module>\u001b[1;34m\u001b[0m\n\u001b[0;32m      3\u001b[0m     \u001b[1;32mfrom\u001b[0m \u001b[0mtensorflow\u001b[0m\u001b[1;33m.\u001b[0m\u001b[0mkeras\u001b[0m\u001b[1;33m.\u001b[0m\u001b[0mlayers\u001b[0m\u001b[1;33m.\u001b[0m\u001b[0mexperimental\u001b[0m\u001b[1;33m.\u001b[0m\u001b[0mpreprocessing\u001b[0m \u001b[1;32mimport\u001b[0m \u001b[0mRandomRotation\u001b[0m\u001b[1;33m\u001b[0m\u001b[1;33m\u001b[0m\u001b[0m\n\u001b[0;32m      4\u001b[0m \u001b[1;32mexcept\u001b[0m \u001b[0mImportError\u001b[0m\u001b[1;33m:\u001b[0m\u001b[1;33m\u001b[0m\u001b[1;33m\u001b[0m\u001b[0m\n\u001b[1;32m----> 5\u001b[1;33m     raise ImportError(\n\u001b[0m\u001b[0;32m      6\u001b[0m         \u001b[1;34m'Keras requires TensorFlow 2.2 or higher. '\u001b[0m\u001b[1;33m\u001b[0m\u001b[1;33m\u001b[0m\u001b[0m\n\u001b[0;32m      7\u001b[0m         'Install TensorFlow via `pip install tensorflow`')\n",
      "\u001b[1;31mImportError\u001b[0m: Keras requires TensorFlow 2.2 or higher. Install TensorFlow via `pip install tensorflow`"
     ]
    }
   ],
   "source": [
    "import keras"
   ]
  },
  {
   "cell_type": "code",
   "execution_count": 12,
   "id": "cfd13198",
   "metadata": {},
   "outputs": [],
   "source": [
    "import tensorflow"
   ]
  },
  {
   "cell_type": "code",
   "execution_count": 18,
   "id": "4a85f766",
   "metadata": {},
   "outputs": [],
   "source": [
    "import tensorflow as tf"
   ]
  },
  {
   "cell_type": "code",
   "execution_count": 19,
   "id": "f66b8ae7",
   "metadata": {},
   "outputs": [
    {
     "data": {
      "text/plain": [
       "<module 'tensorflow' (namespace)>"
      ]
     },
     "execution_count": 19,
     "metadata": {},
     "output_type": "execute_result"
    }
   ],
   "source": [
    "tf"
   ]
  },
  {
   "cell_type": "code",
   "execution_count": 8,
   "id": "e8a457ec",
   "metadata": {},
   "outputs": [],
   "source": [
    "import numpy \n"
   ]
  },
  {
   "cell_type": "code",
   "execution_count": 9,
   "id": "93871cfb",
   "metadata": {},
   "outputs": [
    {
     "data": {
      "text/plain": [
       "<module 'numpy' from 'C:\\\\Users\\\\rt\\\\anaconda3\\\\lib\\\\site-packages\\\\numpy\\\\__init__.py'>"
      ]
     },
     "execution_count": 9,
     "metadata": {},
     "output_type": "execute_result"
    }
   ],
   "source": [
    "numpy"
   ]
  },
  {
   "cell_type": "code",
   "execution_count": 1,
   "id": "6a5205ba",
   "metadata": {},
   "outputs": [],
   "source": [
    "import tensorflow\n"
   ]
  },
  {
   "cell_type": "code",
   "execution_count": 7,
   "id": "e07cb5a1",
   "metadata": {},
   "outputs": [
    {
     "name": "stderr",
     "output_type": "stream",
     "text": [
      "WARNING: Skipping tensorflow as it is not installed.\n"
     ]
    }
   ],
   "source": [
    "!pip uninstall tensorflow"
   ]
  },
  {
   "cell_type": "code",
   "execution_count": 1,
   "id": "f27044c0",
   "metadata": {},
   "outputs": [],
   "source": [
    "import cv2"
   ]
  },
  {
   "cell_type": "code",
   "execution_count": 5,
   "id": "8e3b8602",
   "metadata": {},
   "outputs": [],
   "source": [
    "import tensorflow as tf"
   ]
  },
  {
   "cell_type": "code",
   "execution_count": 6,
   "id": "39126540",
   "metadata": {
    "scrolled": true
   },
   "outputs": [
    {
     "data": {
      "text/plain": [
       "<module 'tensorflow' (namespace)>"
      ]
     },
     "execution_count": 6,
     "metadata": {},
     "output_type": "execute_result"
    }
   ],
   "source": [
    "tf"
   ]
  },
  {
   "cell_type": "code",
   "execution_count": 1,
   "id": "673a3baf",
   "metadata": {},
   "outputs": [
    {
     "name": "stdout",
     "output_type": "stream",
     "text": [
      "Python 3.10.9\n"
     ]
    }
   ],
   "source": [
    "!python --version\n"
   ]
  },
  {
   "cell_type": "code",
   "execution_count": null,
   "id": "9f1e50e7",
   "metadata": {},
   "outputs": [],
   "source": [
    "#dlib_version '19.24.1'"
   ]
  },
  {
   "cell_type": "code",
   "execution_count": 2,
   "id": "73e81680",
   "metadata": {},
   "outputs": [
    {
     "name": "stdout",
     "output_type": "stream",
     "text": [
      "^C\n"
     ]
    }
   ],
   "source": [
    "!pip uninstall cmake\n"
   ]
  },
  {
   "cell_type": "code",
   "execution_count": 3,
   "id": "bcd8f40e",
   "metadata": {},
   "outputs": [],
   "source": [
    "import cmake"
   ]
  },
  {
   "cell_type": "code",
   "execution_count": 14,
   "id": "737dc646",
   "metadata": {},
   "outputs": [],
   "source": [
    "def delete(string):\n",
    "    a=[string[0:idx]+string[idx+1:] for idx in range(len(string))]\n",
    "    return a"
   ]
  },
  {
   "cell_type": "code",
   "execution_count": 11,
   "id": "12ff61b6",
   "metadata": {},
   "outputs": [
    {
     "data": {
      "text/plain": [
       "['ans', 'cns', 'cas', 'can']"
      ]
     },
     "execution_count": 11,
     "metadata": {},
     "output_type": "execute_result"
    }
   ],
   "source": [
    "delete('cans')"
   ]
  },
  {
   "cell_type": "code",
   "execution_count": null,
   "id": "356910a2",
   "metadata": {},
   "outputs": [],
   "source": [
    "delete_l = ['ans', 'cns', 'cas', 'can']\n"
   ]
  },
  {
   "cell_type": "code",
   "execution_count": 34,
   "id": "40f46350",
   "metadata": {},
   "outputs": [],
   "source": [
    "def swap(string):\n",
    "    a=[string[0:idx]+string[idx+1]+string[idx]+string[idx+2:] for idx in range(len(string)) if (idx + 2)<=len(string)]\n",
    "    return a"
   ]
  },
  {
   "cell_type": "code",
   "execution_count": 35,
   "id": "158ce9ca",
   "metadata": {},
   "outputs": [
    {
     "data": {
      "text/plain": [
       "['tea', 'eat']"
      ]
     },
     "execution_count": 35,
     "metadata": {},
     "output_type": "execute_result"
    }
   ],
   "source": [
    "swap('eta')"
   ]
  },
  {
   "cell_type": "code",
   "execution_count": null,
   "id": "546f5ba8",
   "metadata": {},
   "outputs": [],
   "source": []
  },
  {
   "cell_type": "code",
   "execution_count": 42,
   "id": "5848b905",
   "metadata": {},
   "outputs": [],
   "source": [
    "a={1,2,34}\n",
    "a.discard(1)"
   ]
  },
  {
   "cell_type": "code",
   "execution_count": 53,
   "id": "676d1a16",
   "metadata": {},
   "outputs": [],
   "source": [
    "a=[chr(idx) for idx in range(97,123)]"
   ]
  },
  {
   "cell_type": "code",
   "execution_count": 55,
   "id": "ccd36f90",
   "metadata": {},
   "outputs": [
    {
     "data": {
      "text/plain": [
       "26"
      ]
     },
     "execution_count": 55,
     "metadata": {},
     "output_type": "execute_result"
    }
   ],
   "source": [
    "len(a)"
   ]
  },
  {
   "cell_type": "code",
   "execution_count": 114,
   "id": "75be08a2",
   "metadata": {},
   "outputs": [],
   "source": [
    "def replace(string):\n",
    "    alpha=[chr(idx) for idx in range(97,123)]\n",
    "    a=[string[0:idx]+i+string[idx+1:] for idx in range(len(string)) for i in alpha if string[idx]!=i]\n",
    "    \n",
    "    return list(set(a))"
   ]
  },
  {
   "cell_type": "code",
   "execution_count": 115,
   "id": "f46c510b",
   "metadata": {},
   "outputs": [],
   "source": [
    "a=replace('can')"
   ]
  },
  {
   "cell_type": "code",
   "execution_count": 116,
   "id": "10d86516",
   "metadata": {},
   "outputs": [
    {
     "data": {
      "text/plain": [
       "75"
      ]
     },
     "execution_count": 116,
     "metadata": {},
     "output_type": "execute_result"
    }
   ],
   "source": [
    "c=['aan', 'ban', 'caa', 'cab', 'cac', 'cad', 'cae', 'caf',\n",
    "           'cag', 'cah', 'cai', 'caj', 'cak', 'cal', 'cam', 'cao', 'cap',\n",
    "           'caq', 'car', 'cas', 'cat', 'cau', 'cav', 'caw', 'cax', 'cay', 'caz', \n",
    "           'cbn', 'ccn', 'cdn', 'cen', 'cfn', 'cgn', 'chn', 'cin', 'cjn', 'ckn', 'cln',\n",
    "           'cmn', 'cnn', 'con', 'cpn', 'cqn', 'crn', 'csn', 'ctn', 'cun', 'cvn', 'cwn', 'cxn',\n",
    "           'cyn', 'czn', 'dan', 'ean', 'fan', 'gan', 'han', 'ian', 'jan', 'kan', 'lan', 'man', 'nan',\n",
    "           'oan', 'pan', 'qan', 'ran', 'san', 'tan', 'uan', 'van', 'wan', 'xan', 'yan', 'zan']\n",
    "len(c)"
   ]
  },
  {
   "cell_type": "code",
   "execution_count": 117,
   "id": "c6241ec5",
   "metadata": {},
   "outputs": [],
   "source": [
    "x=[a[i]in c for i in range(len(a))]\n"
   ]
  },
  {
   "cell_type": "code",
   "execution_count": 118,
   "id": "a2d08530",
   "metadata": {},
   "outputs": [
    {
     "data": {
      "text/plain": [
       "75"
      ]
     },
     "execution_count": 118,
     "metadata": {},
     "output_type": "execute_result"
    }
   ],
   "source": [
    "len(a)"
   ]
  },
  {
   "cell_type": "code",
   "execution_count": 90,
   "id": "0ea821bb",
   "metadata": {},
   "outputs": [],
   "source": [
    "letters = 'abcdefghijklmnopqrstuvwxyz'"
   ]
  },
  {
   "cell_type": "code",
   "execution_count": 91,
   "id": "e2305a6a",
   "metadata": {},
   "outputs": [
    {
     "data": {
      "text/plain": [
       "26"
      ]
     },
     "execution_count": 91,
     "metadata": {},
     "output_type": "execute_result"
    }
   ],
   "source": [
    "len(letters)"
   ]
  },
  {
   "cell_type": "code",
   "execution_count": 109,
   "id": "0f6e52a4",
   "metadata": {},
   "outputs": [],
   "source": [
    "def insert(string):\n",
    "    alpha=[chr(idx) for idx in range(97,123)]\n",
    "    a=[string[0:idx]+i+string[idx:] for idx in range((len(string)+1)) for i in alpha ]\n",
    "    \n",
    "    return list(set(a))"
   ]
  },
  {
   "cell_type": "code",
   "execution_count": 119,
   "id": "94666c52",
   "metadata": {},
   "outputs": [],
   "source": [
    "a=insert('at')"
   ]
  },
  {
   "cell_type": "code",
   "execution_count": 121,
   "id": "b0380a69",
   "metadata": {},
   "outputs": [],
   "source": [
    "x=[a[i]in c for i in range(len(a))]\n"
   ]
  },
  {
   "cell_type": "code",
   "execution_count": 122,
   "id": "bb0f1f41",
   "metadata": {},
   "outputs": [],
   "source": [
    "c=['aat', 'bat', 'cat', 'dat', 'eat', 'fat', 'gat', 'hat', 'iat', 'jat', 'kat', 'lat', 'mat', 'nat', 'oat', 'pat', 'qat', 'rat', 'sat', 'tat', 'uat', 'vat', 'wat', 'xat', 'yat', 'zat', 'aat', 'abt', 'act', 'adt', 'aet', 'aft', 'agt', 'aht', 'ait', 'ajt', 'akt', 'alt', 'amt', 'ant', 'aot', 'apt', 'aqt', 'art', 'ast', 'att', 'aut', 'avt', 'awt', 'axt', 'ayt', 'azt', 'ata', 'atb', 'atc', 'atd', 'ate', 'atf', 'atg', 'ath', 'ati', 'atj', 'atk', 'atl', 'atm', 'atn', 'ato', 'atp', 'atq', 'atr', 'ats', 'att', 'atu', 'atv', 'atw', 'atx', 'aty', 'atz']"
   ]
  },
  {
   "cell_type": "code",
   "execution_count": null,
   "id": "e011a173",
   "metadata": {},
   "outputs": [],
   "source": []
  },
  {
   "cell_type": "code",
   "execution_count": null,
   "id": "47fcc352",
   "metadata": {},
   "outputs": [],
   "source": [
    "def delete(string):\n",
    "    a=[string[0:idx]+string[idx+1:] for idx in range(len(string))]\n",
    "    return a"
   ]
  },
  {
   "cell_type": "code",
   "execution_count": null,
   "id": "6e096db4",
   "metadata": {},
   "outputs": [],
   "source": [
    "def swap(string):\n",
    "    a=[string[0:idx]+string[idx+1]+string[idx]+string[idx+2:] for idx in range(len(string)) if (idx + 2)<=len(string)]\n",
    "    return a"
   ]
  },
  {
   "cell_type": "code",
   "execution_count": null,
   "id": "33d1b4a0",
   "metadata": {},
   "outputs": [],
   "source": [
    "def replace(string):\n",
    "    alpha=[chr(idx) for idx in range(97,123)]\n",
    "    a=[string[0:idx]+i+string[idx+1:] for idx in range(len(string)) for i in alpha if string[idx]!=i]\n",
    "    \n",
    "    return list(set(a))"
   ]
  },
  {
   "cell_type": "code",
   "execution_count": null,
   "id": "d3bb8714",
   "metadata": {},
   "outputs": [],
   "source": [
    "def insert(string):\n",
    "    alpha=[chr(idx) for idx in range(97,123)]\n",
    "    a=[string[0:idx]+i+string[idx:] for idx in range((len(string)+1)) for i in alpha ]\n",
    "    \n",
    "    return list(set(a))"
   ]
  },
  {
   "cell_type": "code",
   "execution_count": 125,
   "id": "519989eb",
   "metadata": {},
   "outputs": [
    {
     "name": "stdout",
     "output_type": "stream",
     "text": [
      "showing info https://raw.githubusercontent.com/nltk/nltk_data/gh-pages/index.xml\n"
     ]
    },
    {
     "data": {
      "text/plain": [
       "True"
      ]
     },
     "execution_count": 125,
     "metadata": {},
     "output_type": "execute_result"
    }
   ],
   "source": [
    "import nltk\n",
    "nltk.download() \n"
   ]
  },
  {
   "cell_type": "code",
   "execution_count": 1,
   "id": "126145db",
   "metadata": {},
   "outputs": [
    {
     "data": {
      "text/plain": [
       "67288.48"
      ]
     },
     "execution_count": 1,
     "metadata": {},
     "output_type": "execute_result"
    }
   ],
   "source": [
    "230.44*292"
   ]
  },
  {
   "cell_type": "code",
   "execution_count": null,
   "id": "a4cd40c1",
   "metadata": {},
   "outputs": [],
   "source": []
  }
 ],
 "metadata": {
  "kernelspec": {
   "display_name": "Python 3 (ipykernel)",
   "language": "python",
   "name": "python3"
  },
  "language_info": {
   "codemirror_mode": {
    "name": "ipython",
    "version": 3
   },
   "file_extension": ".py",
   "mimetype": "text/x-python",
   "name": "python",
   "nbconvert_exporter": "python",
   "pygments_lexer": "ipython3",
   "version": "3.10.9"
  }
 },
 "nbformat": 4,
 "nbformat_minor": 5
}
